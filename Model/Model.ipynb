{
 "cells": [
  {
   "cell_type": "code",
   "execution_count": 1,
   "id": "10397c86",
   "metadata": {},
   "outputs": [],
   "source": [
    "import pandas as pd\n",
    "import numpy as np\n",
    "import statsmodels.formula.api as sm\n",
    "import pickle"
   ]
  },
  {
   "cell_type": "code",
   "execution_count": 2,
   "id": "8cefc3c6",
   "metadata": {},
   "outputs": [],
   "source": [
    "df = pd.read_csv('datos_recaudo.csv')\n"
   ]
  },
  {
   "cell_type": "code",
   "execution_count": 3,
   "id": "671b793f",
   "metadata": {},
   "outputs": [
    {
     "name": "stderr",
     "output_type": "stream",
     "text": [
      "<ipython-input-3-8b82db987dc7>:1: FutureWarning: The default value of regex will change from True to False in a future version. In addition, single character regular expressions will*not* be treated as literal strings when regex=True.\n",
      "  df['recaudo_1000000000'] = df['recaudo_1000000000'].str.replace(\"$\",\"\")\n"
     ]
    }
   ],
   "source": [
    "df['recaudo_1000000000'] = df['recaudo_1000000000'].str.replace(\"$\",\"\")\n",
    "df['recaudo_1000000000'] = df['recaudo_1000000000'].str.replace(\",\",\"\")\n",
    "df['cambio_trm'] = df['cambio_trm'].str.replace(\",\",\"\")\n",
    "df['IPVU_nom_medellin'] = df['IPVU_nom_medellin'].str.replace(\",\",\"\")\n",
    "\n",
    "\n",
    "\n",
    "df['recaudo_1000000000'] = df['recaudo_1000000000'].astype('float64')\n",
    "df['cambio_trm'] = df['cambio_trm'].astype('float64')\n",
    "df['IPVU_nom_medellin'] = df['IPVU_nom_medellin'].astype('float64')"
   ]
  },
  {
   "cell_type": "code",
   "execution_count": 4,
   "id": "9af20739",
   "metadata": {},
   "outputs": [],
   "source": [
    "formula = 'recaudo_1000000000 ~ cambio_trm + IPVU_nom_medellin+tasa_ocupacion_7a'\n",
    "\n",
    "model = sm.ols(formula, df)"
   ]
  },
  {
   "cell_type": "code",
   "execution_count": 12,
   "id": "7216b6da",
   "metadata": {},
   "outputs": [],
   "source": [
    "fitted = model.fit()"
   ]
  },
  {
   "cell_type": "code",
   "execution_count": 9,
   "id": "9e5bc4c0",
   "metadata": {},
   "outputs": [],
   "source": [
    "filename = 'finalized_model.sav'\n",
    "pickle.dump(fitted, open(filename, 'wb'))"
   ]
  }
 ],
 "metadata": {
  "kernelspec": {
   "display_name": "Python 3",
   "language": "python",
   "name": "python3"
  },
  "language_info": {
   "codemirror_mode": {
    "name": "ipython",
    "version": 3
   },
   "file_extension": ".py",
   "mimetype": "text/x-python",
   "name": "python",
   "nbconvert_exporter": "python",
   "pygments_lexer": "ipython3",
   "version": "3.8.8"
  }
 },
 "nbformat": 4,
 "nbformat_minor": 5
}
