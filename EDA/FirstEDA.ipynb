{
 "cells": [
  {
   "cell_type": "code",
   "execution_count": 1,
   "id": "61ade6dc-26cd-4dcb-b74f-c27d89894948",
   "metadata": {},
   "outputs": [],
   "source": [
    "import pandas as pd\n",
    "import numpy as np\n",
    "import seaborn as sns"
   ]
  },
  {
   "cell_type": "code",
   "execution_count": 2,
   "id": "5e635105-c017-488b-a9a1-36aa96c45e10",
   "metadata": {},
   "outputs": [],
   "source": [
    "df = pd.read_excel('Consolidado 2016-2020.xlsx')"
   ]
  },
  {
   "cell_type": "code",
   "execution_count": null,
   "id": "3b7880d8-d493-4217-9442-85b31916267f",
   "metadata": {},
   "outputs": [],
   "source": [
    "df.head()"
   ]
  },
  {
   "cell_type": "code",
   "execution_count": null,
   "id": "66bf84af-f136-4c03-85f9-fbb15daa1118",
   "metadata": {},
   "outputs": [],
   "source": [
    "df.tail()"
   ]
  },
  {
   "cell_type": "code",
   "execution_count": null,
   "id": "0af3d3bd-c909-459e-8522-e3c3fa1612c9",
   "metadata": {},
   "outputs": [],
   "source": [
    "df.columns"
   ]
  },
  {
   "cell_type": "code",
   "execution_count": null,
   "id": "6c55bce5-4708-4c15-bb55-28987118909a",
   "metadata": {},
   "outputs": [],
   "source": [
    "df.head(1).T"
   ]
  },
  {
   "cell_type": "code",
   "execution_count": null,
   "id": "2e051519-c778-4989-afbf-23c3b5c7f2b0",
   "metadata": {},
   "outputs": [],
   "source": [
    "df.describe(include=np.number)"
   ]
  },
  {
   "cell_type": "code",
   "execution_count": null,
   "id": "80c39219-e6bc-4882-950a-098f872351a8",
   "metadata": {},
   "outputs": [],
   "source": [
    "df.shape"
   ]
  },
  {
   "cell_type": "code",
   "execution_count": null,
   "id": "3bc9becd-37b6-42a2-8698-b7fdf4cdc2ff",
   "metadata": {},
   "outputs": [],
   "source": [
    "22070/484877"
   ]
  },
  {
   "cell_type": "code",
   "execution_count": null,
   "id": "2a40b16d-7c30-474b-b8f4-b072d8aac761",
   "metadata": {},
   "outputs": [],
   "source": [
    "for i in df.columns:\n",
    "    print(i)\n",
    "    print(df[i].value_counts())"
   ]
  },
  {
   "cell_type": "code",
   "execution_count": null,
   "id": "67676cad-7141-415d-9288-1624887e67d8",
   "metadata": {},
   "outputs": [],
   "source": [
    "df[df['cc_tarifa']==999]['AÑO'].value_counts()"
   ]
  },
  {
   "cell_type": "code",
   "execution_count": null,
   "id": "cd2faf0f-6259-45ea-8117-56f2ef9ce73a",
   "metadata": {},
   "outputs": [],
   "source": [
    "df[df['cc_tarifa']==999]"
   ]
  },
  {
   "cell_type": "code",
   "execution_count": null,
   "id": "88367993-7c19-4288-bb39-5039bee23343",
   "metadata": {},
   "outputs": [],
   "source": [
    "df['CONSECUTIVO PREDIAL'].nunique()"
   ]
  },
  {
   "cell_type": "code",
   "execution_count": null,
   "id": "eb8fe721-dfab-441a-bfd4-e161704967b4",
   "metadata": {},
   "outputs": [],
   "source": [
    "df['CONSECUTIVO PREDIAL'].value_counts()"
   ]
  },
  {
   "cell_type": "code",
   "execution_count": null,
   "id": "04426125-8402-40ad-aa72-e99e5079830a",
   "metadata": {},
   "outputs": [],
   "source": [
    "df['CONSECUTIVO PREDIAL'].isnull().sum()"
   ]
  },
  {
   "cell_type": "code",
   "execution_count": null,
   "id": "0b2b6e60-be63-43c4-9cc2-300e460466ff",
   "metadata": {},
   "outputs": [],
   "source": [
    "df['IDENTIFICACION CATASTRAL'].nunique()"
   ]
  },
  {
   "cell_type": "code",
   "execution_count": null,
   "id": "b02ddb64-a364-4780-b0ab-e0815fadd00f",
   "metadata": {},
   "outputs": [],
   "source": [
    "df.columns"
   ]
  },
  {
   "cell_type": "code",
   "execution_count": null,
   "id": "7106f9b6-8e83-4478-8d9d-46a42f70e979",
   "metadata": {},
   "outputs": [],
   "source": [
    "df[df['CONSECUTIVO PREDIAL']==2].drop(columns=['IDENTIFICACION CATASTRAL',]).T"
   ]
  },
  {
   "cell_type": "code",
   "execution_count": null,
   "id": "f84c7b75-d1c7-4aa4-8250-86416ddad5b9",
   "metadata": {},
   "outputs": [],
   "source": [
    "df['id'] = df['CONSECUTIVO PREDIAL'].astype('string')+'_'+df['nro_doc_id_catastral'].astype('string')"
   ]
  },
  {
   "cell_type": "code",
   "execution_count": null,
   "id": "2c844186-fde1-46d4-8b82-f66216f9d4ab",
   "metadata": {},
   "outputs": [],
   "source": [
    "df.head()"
   ]
  },
  {
   "cell_type": "code",
   "execution_count": null,
   "id": "952ec98c-a694-4c78-bb5c-9792292f4853",
   "metadata": {},
   "outputs": [],
   "source": [
    "df.columns"
   ]
  },
  {
   "cell_type": "code",
   "execution_count": null,
   "id": "a1acdbb4-461d-4e47-ac53-43eaa96e7ebb",
   "metadata": {},
   "outputs": [],
   "source": [
    "import seaborn as sns\n",
    "sns.boxplot(df['vlr_terr'],showfliers=False)"
   ]
  },
  {
   "cell_type": "code",
   "execution_count": null,
   "id": "9694016d-9b99-4b49-a09e-1b327db5ae71",
   "metadata": {},
   "outputs": [],
   "source": [
    "df[df['CONSECUTIVO PREDIAL']==2]"
   ]
  },
  {
   "cell_type": "code",
   "execution_count": null,
   "id": "10435afe-2891-47e1-812e-a0d813d50176",
   "metadata": {},
   "outputs": [],
   "source": [
    "df_cp = df.drop_duplicates(subset=['CONSECUTIVO PREDIAL','AÑO']).reset_index(drop=True).copy()"
   ]
  },
  {
   "cell_type": "code",
   "execution_count": null,
   "id": "b82ee681-9c3c-40c8-8415-8469a5810ab7",
   "metadata": {},
   "outputs": [],
   "source": [
    "df_cp.head()"
   ]
  },
  {
   "cell_type": "code",
   "execution_count": null,
   "id": "b1ce16f7-5f16-4236-8aed-85846aac8487",
   "metadata": {},
   "outputs": [],
   "source": [
    "df_cp.pivot(index='CONSECUTIVO PREDIAL',columns='AÑO',values=['cc_tarifa','vlr_terr'])"
   ]
  },
  {
   "cell_type": "markdown",
   "id": "c93348dc-771a-45b0-b59c-e1df5c30aaf0",
   "metadata": {},
   "source": [
    "## EDA"
   ]
  },
  {
   "cell_type": "code",
   "execution_count": null,
   "id": "ee5ac813-2c8c-40d9-95df-c92e6e86f43d",
   "metadata": {},
   "outputs": [],
   "source": [
    "df[df['CONSECUTIVO PREDIAL']==2]"
   ]
  },
  {
   "cell_type": "code",
   "execution_count": null,
   "id": "c905a691-2004-4751-af85-47489ee27f85",
   "metadata": {},
   "outputs": [],
   "source": [
    "df[df['CONSECUTIVO PREDIAL']==2].drop_duplicates(subset=['CONSECUTIVO PREDIAL'])"
   ]
  },
  {
   "cell_type": "code",
   "execution_count": null,
   "id": "b0516bef-dd73-4d8c-b9bb-46ab7248bf88",
   "metadata": {},
   "outputs": [],
   "source": [
    "df.columns"
   ]
  },
  {
   "cell_type": "code",
   "execution_count": null,
   "id": "305ec479-c60a-42ce-86d3-c7ce70f583df",
   "metadata": {},
   "outputs": [],
   "source": [
    "df['AÑO'].value_counts()"
   ]
  },
  {
   "cell_type": "markdown",
   "id": "711e622e-a3db-469d-a1cb-d593ca3edc24",
   "metadata": {},
   "source": [
    "## 2016"
   ]
  },
  {
   "cell_type": "code",
   "execution_count": 3,
   "id": "057ba125-f734-4c30-8c71-5e839463be35",
   "metadata": {},
   "outputs": [],
   "source": [
    "df_2016 = df[df['AÑO']==2016].reset_index(drop=True).copy()"
   ]
  },
  {
   "cell_type": "code",
   "execution_count": 4,
   "id": "60ca73e8-7648-4c03-b6c8-ecb34b62b857",
   "metadata": {},
   "outputs": [],
   "source": [
    "df_2016.drop(columns=['IDENTIFICACION CATASTRAL','AÑO','primer_apell','segundo_apell','per_ult_pag','ficha','direccion'],inplace=True)"
   ]
  },
  {
   "cell_type": "code",
   "execution_count": 5,
   "id": "c586ffbc-f3f0-4d1a-bd54-90f2b32db15c",
   "metadata": {},
   "outputs": [
    {
     "data": {
      "text/html": [
       "<div>\n",
       "<style scoped>\n",
       "    .dataframe tbody tr th:only-of-type {\n",
       "        vertical-align: middle;\n",
       "    }\n",
       "\n",
       "    .dataframe tbody tr th {\n",
       "        vertical-align: top;\n",
       "    }\n",
       "\n",
       "    .dataframe thead th {\n",
       "        text-align: right;\n",
       "    }\n",
       "</style>\n",
       "<table border=\"1\" class=\"dataframe\">\n",
       "  <thead>\n",
       "    <tr style=\"text-align: right;\">\n",
       "      <th></th>\n",
       "      <th>cc_tarifa</th>\n",
       "      <th>ESTRATO</th>\n",
       "      <th>CONSECUTIVO PREDIAL</th>\n",
       "      <th>clase</th>\n",
       "      <th>corregimiento</th>\n",
       "      <th>barrio</th>\n",
       "      <th>manzana</th>\n",
       "      <th>predio</th>\n",
       "      <th>edificio</th>\n",
       "      <th>mejora</th>\n",
       "      <th>...</th>\n",
       "      <th>DESTINACION</th>\n",
       "      <th>vlr_terr</th>\n",
       "      <th>vlr_terr_comun</th>\n",
       "      <th>vlr_const</th>\n",
       "      <th>vlr_const_comun</th>\n",
       "      <th>vlr_tot_avaluo</th>\n",
       "      <th>nro_doc_id_catastral</th>\n",
       "      <th>nombre</th>\n",
       "      <th>proindiviso</th>\n",
       "      <th>cons_pred</th>\n",
       "    </tr>\n",
       "  </thead>\n",
       "  <tbody>\n",
       "    <tr>\n",
       "      <th>0</th>\n",
       "      <td>12</td>\n",
       "      <td>2</td>\n",
       "      <td>2972</td>\n",
       "      <td>1</td>\n",
       "      <td>1</td>\n",
       "      <td>1</td>\n",
       "      <td>19</td>\n",
       "      <td>21</td>\n",
       "      <td>0</td>\n",
       "      <td>0</td>\n",
       "      <td>...</td>\n",
       "      <td>4</td>\n",
       "      <td>1097762924</td>\n",
       "      <td>0.0</td>\n",
       "      <td>5959129.0</td>\n",
       "      <td>0</td>\n",
       "      <td>1103722053</td>\n",
       "      <td>805012921</td>\n",
       "      <td>FIDUCIARIA S.A.</td>\n",
       "      <td>100</td>\n",
       "      <td>2972</td>\n",
       "    </tr>\n",
       "    <tr>\n",
       "      <th>1</th>\n",
       "      <td>16</td>\n",
       "      <td>5</td>\n",
       "      <td>41717</td>\n",
       "      <td>1</td>\n",
       "      <td>1</td>\n",
       "      <td>10</td>\n",
       "      <td>1</td>\n",
       "      <td>2</td>\n",
       "      <td>0</td>\n",
       "      <td>0</td>\n",
       "      <td>...</td>\n",
       "      <td>13</td>\n",
       "      <td>4338995</td>\n",
       "      <td>0.0</td>\n",
       "      <td>0.0</td>\n",
       "      <td>0</td>\n",
       "      <td>4338995</td>\n",
       "      <td>811008684</td>\n",
       "      <td>DE RIONEGRO S.A.</td>\n",
       "      <td>100</td>\n",
       "      <td>41717</td>\n",
       "    </tr>\n",
       "    <tr>\n",
       "      <th>2</th>\n",
       "      <td>16</td>\n",
       "      <td>0</td>\n",
       "      <td>12157</td>\n",
       "      <td>1</td>\n",
       "      <td>1</td>\n",
       "      <td>10</td>\n",
       "      <td>1</td>\n",
       "      <td>3</td>\n",
       "      <td>0</td>\n",
       "      <td>0</td>\n",
       "      <td>...</td>\n",
       "      <td>13</td>\n",
       "      <td>6715111</td>\n",
       "      <td>0.0</td>\n",
       "      <td>0.0</td>\n",
       "      <td>0</td>\n",
       "      <td>6715111</td>\n",
       "      <td>811008684</td>\n",
       "      <td>DE RIONEGRO S.A.</td>\n",
       "      <td>100</td>\n",
       "      <td>12157</td>\n",
       "    </tr>\n",
       "    <tr>\n",
       "      <th>3</th>\n",
       "      <td>8</td>\n",
       "      <td>0</td>\n",
       "      <td>12159</td>\n",
       "      <td>1</td>\n",
       "      <td>1</td>\n",
       "      <td>10</td>\n",
       "      <td>1</td>\n",
       "      <td>5</td>\n",
       "      <td>0</td>\n",
       "      <td>0</td>\n",
       "      <td>...</td>\n",
       "      <td>1</td>\n",
       "      <td>30481922</td>\n",
       "      <td>0.0</td>\n",
       "      <td>52343063.0</td>\n",
       "      <td>0</td>\n",
       "      <td>82824985</td>\n",
       "      <td>1039450934</td>\n",
       "      <td>ANDRES  MAURICIO</td>\n",
       "      <td>50</td>\n",
       "      <td>12159</td>\n",
       "    </tr>\n",
       "    <tr>\n",
       "      <th>4</th>\n",
       "      <td>8</td>\n",
       "      <td>0</td>\n",
       "      <td>12159</td>\n",
       "      <td>1</td>\n",
       "      <td>1</td>\n",
       "      <td>10</td>\n",
       "      <td>1</td>\n",
       "      <td>5</td>\n",
       "      <td>0</td>\n",
       "      <td>0</td>\n",
       "      <td>...</td>\n",
       "      <td>1</td>\n",
       "      <td>30481922</td>\n",
       "      <td>0.0</td>\n",
       "      <td>52343063.0</td>\n",
       "      <td>0</td>\n",
       "      <td>82824985</td>\n",
       "      <td>43094163</td>\n",
       "      <td>ANA  MARIA</td>\n",
       "      <td>50</td>\n",
       "      <td>12159</td>\n",
       "    </tr>\n",
       "  </tbody>\n",
       "</table>\n",
       "<p>5 rows × 26 columns</p>\n",
       "</div>"
      ],
      "text/plain": [
       "   cc_tarifa ESTRATO  CONSECUTIVO PREDIAL  clase  corregimiento  barrio  \\\n",
       "0         12       2                 2972      1              1       1   \n",
       "1         16       5                41717      1              1      10   \n",
       "2         16       0                12157      1              1      10   \n",
       "3          8       0                12159      1              1      10   \n",
       "4          8       0                12159      1              1      10   \n",
       "\n",
       "   manzana  predio  edificio  mejora  ... DESTINACION    vlr_terr  \\\n",
       "0       19      21         0       0  ...           4  1097762924   \n",
       "1        1       2         0       0  ...          13     4338995   \n",
       "2        1       3         0       0  ...          13     6715111   \n",
       "3        1       5         0       0  ...           1    30481922   \n",
       "4        1       5         0       0  ...           1    30481922   \n",
       "\n",
       "   vlr_terr_comun   vlr_const  vlr_const_comun  vlr_tot_avaluo  \\\n",
       "0             0.0   5959129.0                0      1103722053   \n",
       "1             0.0         0.0                0         4338995   \n",
       "2             0.0         0.0                0         6715111   \n",
       "3             0.0  52343063.0                0        82824985   \n",
       "4             0.0  52343063.0                0        82824985   \n",
       "\n",
       "   nro_doc_id_catastral            nombre  proindiviso  cons_pred  \n",
       "0             805012921   FIDUCIARIA S.A.          100       2972  \n",
       "1             811008684  DE RIONEGRO S.A.          100      41717  \n",
       "2             811008684  DE RIONEGRO S.A.          100      12157  \n",
       "3            1039450934  ANDRES  MAURICIO           50      12159  \n",
       "4              43094163        ANA  MARIA           50      12159  \n",
       "\n",
       "[5 rows x 26 columns]"
      ]
     },
     "execution_count": 5,
     "metadata": {},
     "output_type": "execute_result"
    }
   ],
   "source": [
    "df_2016.head()"
   ]
  },
  {
   "cell_type": "code",
   "execution_count": 6,
   "id": "62ce8ec1-da89-4bf2-93fa-3b3ce0cc2422",
   "metadata": {},
   "outputs": [],
   "source": [
    "df_2016.drop_duplicates(subset='CONSECUTIVO PREDIAL').reset_index(drop=True,inplace=True)"
   ]
  },
  {
   "cell_type": "markdown",
   "id": "627d46a3-7631-46e7-996b-de4db6895800",
   "metadata": {},
   "source": [
    "## 2017"
   ]
  },
  {
   "cell_type": "code",
   "execution_count": 7,
   "id": "869a3199-4dee-4a32-9552-ca10f3c62455",
   "metadata": {},
   "outputs": [],
   "source": [
    "df_2017 = df[df['AÑO']==2017].reset_index(drop=True).copy()"
   ]
  },
  {
   "cell_type": "code",
   "execution_count": 8,
   "id": "a5c758df-e344-49a7-82a2-8316dfbaa842",
   "metadata": {},
   "outputs": [],
   "source": [
    "df_2017.drop(columns=['IDENTIFICACION CATASTRAL','AÑO','primer_apell','segundo_apell','per_ult_pag','ficha','direccion'],inplace=True)"
   ]
  },
  {
   "cell_type": "code",
   "execution_count": 9,
   "id": "9b46c9e8-b480-44c9-b80b-9b04b6a12e28",
   "metadata": {},
   "outputs": [
    {
     "data": {
      "text/html": [
       "<div>\n",
       "<style scoped>\n",
       "    .dataframe tbody tr th:only-of-type {\n",
       "        vertical-align: middle;\n",
       "    }\n",
       "\n",
       "    .dataframe tbody tr th {\n",
       "        vertical-align: top;\n",
       "    }\n",
       "\n",
       "    .dataframe thead th {\n",
       "        text-align: right;\n",
       "    }\n",
       "</style>\n",
       "<table border=\"1\" class=\"dataframe\">\n",
       "  <thead>\n",
       "    <tr style=\"text-align: right;\">\n",
       "      <th></th>\n",
       "      <th>cc_tarifa</th>\n",
       "      <th>ESTRATO</th>\n",
       "      <th>CONSECUTIVO PREDIAL</th>\n",
       "      <th>clase</th>\n",
       "      <th>corregimiento</th>\n",
       "      <th>barrio</th>\n",
       "      <th>manzana</th>\n",
       "      <th>predio</th>\n",
       "      <th>edificio</th>\n",
       "      <th>mejora</th>\n",
       "      <th>...</th>\n",
       "      <th>DESTINACION</th>\n",
       "      <th>vlr_terr</th>\n",
       "      <th>vlr_terr_comun</th>\n",
       "      <th>vlr_const</th>\n",
       "      <th>vlr_const_comun</th>\n",
       "      <th>vlr_tot_avaluo</th>\n",
       "      <th>nro_doc_id_catastral</th>\n",
       "      <th>nombre</th>\n",
       "      <th>proindiviso</th>\n",
       "      <th>cons_pred</th>\n",
       "    </tr>\n",
       "  </thead>\n",
       "  <tbody>\n",
       "    <tr>\n",
       "      <th>0</th>\n",
       "      <td>33</td>\n",
       "      <td>2</td>\n",
       "      <td>2972</td>\n",
       "      <td>1</td>\n",
       "      <td>1</td>\n",
       "      <td>1</td>\n",
       "      <td>19</td>\n",
       "      <td>21</td>\n",
       "      <td>0</td>\n",
       "      <td>0</td>\n",
       "      <td>...</td>\n",
       "      <td>2</td>\n",
       "      <td>1993705800</td>\n",
       "      <td>0.0</td>\n",
       "      <td>5959129.0</td>\n",
       "      <td>0</td>\n",
       "      <td>1999664929</td>\n",
       "      <td>805012921</td>\n",
       "      <td>FIDUCIARIA S.A.</td>\n",
       "      <td>100</td>\n",
       "      <td>2972</td>\n",
       "    </tr>\n",
       "    <tr>\n",
       "      <th>1</th>\n",
       "      <td>14</td>\n",
       "      <td>5</td>\n",
       "      <td>41717</td>\n",
       "      <td>1</td>\n",
       "      <td>1</td>\n",
       "      <td>10</td>\n",
       "      <td>1</td>\n",
       "      <td>2</td>\n",
       "      <td>0</td>\n",
       "      <td>0</td>\n",
       "      <td>...</td>\n",
       "      <td>19</td>\n",
       "      <td>1478400</td>\n",
       "      <td>0.0</td>\n",
       "      <td>0.0</td>\n",
       "      <td>0</td>\n",
       "      <td>1478400</td>\n",
       "      <td>811008684</td>\n",
       "      <td>DE RIONEGRO S.A.</td>\n",
       "      <td>100</td>\n",
       "      <td>41717</td>\n",
       "    </tr>\n",
       "    <tr>\n",
       "      <th>2</th>\n",
       "      <td>14</td>\n",
       "      <td>0</td>\n",
       "      <td>12157</td>\n",
       "      <td>1</td>\n",
       "      <td>1</td>\n",
       "      <td>10</td>\n",
       "      <td>1</td>\n",
       "      <td>3</td>\n",
       "      <td>0</td>\n",
       "      <td>0</td>\n",
       "      <td>...</td>\n",
       "      <td>19</td>\n",
       "      <td>3326400</td>\n",
       "      <td>0.0</td>\n",
       "      <td>0.0</td>\n",
       "      <td>0</td>\n",
       "      <td>3326400</td>\n",
       "      <td>811008684</td>\n",
       "      <td>DE RIONEGRO S.A.</td>\n",
       "      <td>100</td>\n",
       "      <td>12157</td>\n",
       "    </tr>\n",
       "    <tr>\n",
       "      <th>3</th>\n",
       "      <td>14</td>\n",
       "      <td>0</td>\n",
       "      <td>12159</td>\n",
       "      <td>1</td>\n",
       "      <td>1</td>\n",
       "      <td>10</td>\n",
       "      <td>1</td>\n",
       "      <td>5</td>\n",
       "      <td>0</td>\n",
       "      <td>0</td>\n",
       "      <td>...</td>\n",
       "      <td>3</td>\n",
       "      <td>16853760</td>\n",
       "      <td>0.0</td>\n",
       "      <td>48044777.0</td>\n",
       "      <td>0</td>\n",
       "      <td>64898537</td>\n",
       "      <td>1039450934</td>\n",
       "      <td>ANDRES  MAURICIO</td>\n",
       "      <td>50</td>\n",
       "      <td>12159</td>\n",
       "    </tr>\n",
       "    <tr>\n",
       "      <th>4</th>\n",
       "      <td>14</td>\n",
       "      <td>0</td>\n",
       "      <td>12159</td>\n",
       "      <td>1</td>\n",
       "      <td>1</td>\n",
       "      <td>10</td>\n",
       "      <td>1</td>\n",
       "      <td>5</td>\n",
       "      <td>0</td>\n",
       "      <td>0</td>\n",
       "      <td>...</td>\n",
       "      <td>3</td>\n",
       "      <td>16853760</td>\n",
       "      <td>0.0</td>\n",
       "      <td>48044777.0</td>\n",
       "      <td>0</td>\n",
       "      <td>64898537</td>\n",
       "      <td>43094163</td>\n",
       "      <td>ANA  MARIA</td>\n",
       "      <td>50</td>\n",
       "      <td>12159</td>\n",
       "    </tr>\n",
       "  </tbody>\n",
       "</table>\n",
       "<p>5 rows × 26 columns</p>\n",
       "</div>"
      ],
      "text/plain": [
       "   cc_tarifa ESTRATO  CONSECUTIVO PREDIAL  clase  corregimiento  barrio  \\\n",
       "0         33       2                 2972      1              1       1   \n",
       "1         14       5                41717      1              1      10   \n",
       "2         14       0                12157      1              1      10   \n",
       "3         14       0                12159      1              1      10   \n",
       "4         14       0                12159      1              1      10   \n",
       "\n",
       "   manzana  predio  edificio  mejora  ... DESTINACION    vlr_terr  \\\n",
       "0       19      21         0       0  ...           2  1993705800   \n",
       "1        1       2         0       0  ...          19     1478400   \n",
       "2        1       3         0       0  ...          19     3326400   \n",
       "3        1       5         0       0  ...           3    16853760   \n",
       "4        1       5         0       0  ...           3    16853760   \n",
       "\n",
       "   vlr_terr_comun   vlr_const  vlr_const_comun  vlr_tot_avaluo  \\\n",
       "0             0.0   5959129.0                0      1999664929   \n",
       "1             0.0         0.0                0         1478400   \n",
       "2             0.0         0.0                0         3326400   \n",
       "3             0.0  48044777.0                0        64898537   \n",
       "4             0.0  48044777.0                0        64898537   \n",
       "\n",
       "   nro_doc_id_catastral            nombre  proindiviso  cons_pred  \n",
       "0             805012921   FIDUCIARIA S.A.          100       2972  \n",
       "1             811008684  DE RIONEGRO S.A.          100      41717  \n",
       "2             811008684  DE RIONEGRO S.A.          100      12157  \n",
       "3            1039450934  ANDRES  MAURICIO           50      12159  \n",
       "4              43094163        ANA  MARIA           50      12159  \n",
       "\n",
       "[5 rows x 26 columns]"
      ]
     },
     "execution_count": 9,
     "metadata": {},
     "output_type": "execute_result"
    }
   ],
   "source": [
    "df_2017.head()"
   ]
  },
  {
   "cell_type": "code",
   "execution_count": 10,
   "id": "d29421ce-8dae-47f1-ab08-90be4233b28c",
   "metadata": {},
   "outputs": [],
   "source": [
    "df_2017.drop_duplicates(subset='CONSECUTIVO PREDIAL').reset_index(drop=True,inplace=True)"
   ]
  },
  {
   "cell_type": "markdown",
   "id": "0d6cf2dc-2c31-4014-9682-021ff05d2487",
   "metadata": {},
   "source": [
    "## 2018"
   ]
  },
  {
   "cell_type": "code",
   "execution_count": 11,
   "id": "c939036e-360c-4e98-be83-3d4e8ad0849e",
   "metadata": {},
   "outputs": [],
   "source": [
    "df_2018 = df[df['AÑO']==2018].reset_index(drop=True).copy()"
   ]
  },
  {
   "cell_type": "code",
   "execution_count": 12,
   "id": "4d7edf0f-b804-42fa-a2d6-5ea1baf29b0c",
   "metadata": {},
   "outputs": [],
   "source": [
    "df_2018.drop(columns=['IDENTIFICACION CATASTRAL','AÑO','primer_apell','segundo_apell','per_ult_pag','ficha','direccion'],inplace=True)"
   ]
  },
  {
   "cell_type": "code",
   "execution_count": 13,
   "id": "4a4affe0-f438-49ce-86b4-8157e816d261",
   "metadata": {},
   "outputs": [
    {
     "data": {
      "text/html": [
       "<div>\n",
       "<style scoped>\n",
       "    .dataframe tbody tr th:only-of-type {\n",
       "        vertical-align: middle;\n",
       "    }\n",
       "\n",
       "    .dataframe tbody tr th {\n",
       "        vertical-align: top;\n",
       "    }\n",
       "\n",
       "    .dataframe thead th {\n",
       "        text-align: right;\n",
       "    }\n",
       "</style>\n",
       "<table border=\"1\" class=\"dataframe\">\n",
       "  <thead>\n",
       "    <tr style=\"text-align: right;\">\n",
       "      <th></th>\n",
       "      <th>cc_tarifa</th>\n",
       "      <th>ESTRATO</th>\n",
       "      <th>CONSECUTIVO PREDIAL</th>\n",
       "      <th>clase</th>\n",
       "      <th>corregimiento</th>\n",
       "      <th>barrio</th>\n",
       "      <th>manzana</th>\n",
       "      <th>predio</th>\n",
       "      <th>edificio</th>\n",
       "      <th>mejora</th>\n",
       "      <th>...</th>\n",
       "      <th>DESTINACION</th>\n",
       "      <th>vlr_terr</th>\n",
       "      <th>vlr_terr_comun</th>\n",
       "      <th>vlr_const</th>\n",
       "      <th>vlr_const_comun</th>\n",
       "      <th>vlr_tot_avaluo</th>\n",
       "      <th>nro_doc_id_catastral</th>\n",
       "      <th>nombre</th>\n",
       "      <th>proindiviso</th>\n",
       "      <th>cons_pred</th>\n",
       "    </tr>\n",
       "  </thead>\n",
       "  <tbody>\n",
       "    <tr>\n",
       "      <th>0</th>\n",
       "      <td>33</td>\n",
       "      <td>2</td>\n",
       "      <td>2972</td>\n",
       "      <td>1</td>\n",
       "      <td>1</td>\n",
       "      <td>1</td>\n",
       "      <td>19</td>\n",
       "      <td>21</td>\n",
       "      <td>0</td>\n",
       "      <td>0</td>\n",
       "      <td>...</td>\n",
       "      <td>2</td>\n",
       "      <td>2053516974</td>\n",
       "      <td>0.0</td>\n",
       "      <td>6137903.0</td>\n",
       "      <td>0</td>\n",
       "      <td>2059654877</td>\n",
       "      <td>805012921</td>\n",
       "      <td>FIDUCIARIA S.A.</td>\n",
       "      <td>100</td>\n",
       "      <td>2972</td>\n",
       "    </tr>\n",
       "    <tr>\n",
       "      <th>1</th>\n",
       "      <td>14</td>\n",
       "      <td>5</td>\n",
       "      <td>41717</td>\n",
       "      <td>1</td>\n",
       "      <td>1</td>\n",
       "      <td>10</td>\n",
       "      <td>1</td>\n",
       "      <td>2</td>\n",
       "      <td>0</td>\n",
       "      <td>0</td>\n",
       "      <td>...</td>\n",
       "      <td>19</td>\n",
       "      <td>1522752</td>\n",
       "      <td>0.0</td>\n",
       "      <td>0.0</td>\n",
       "      <td>0</td>\n",
       "      <td>1522752</td>\n",
       "      <td>811008684</td>\n",
       "      <td>DE RIONEGRO S.A.</td>\n",
       "      <td>100</td>\n",
       "      <td>41717</td>\n",
       "    </tr>\n",
       "    <tr>\n",
       "      <th>2</th>\n",
       "      <td>14</td>\n",
       "      <td>0</td>\n",
       "      <td>12157</td>\n",
       "      <td>1</td>\n",
       "      <td>1</td>\n",
       "      <td>10</td>\n",
       "      <td>1</td>\n",
       "      <td>3</td>\n",
       "      <td>0</td>\n",
       "      <td>0</td>\n",
       "      <td>...</td>\n",
       "      <td>19</td>\n",
       "      <td>3426192</td>\n",
       "      <td>0.0</td>\n",
       "      <td>0.0</td>\n",
       "      <td>0</td>\n",
       "      <td>3426192</td>\n",
       "      <td>811008684</td>\n",
       "      <td>DE RIONEGRO S.A.</td>\n",
       "      <td>100</td>\n",
       "      <td>12157</td>\n",
       "    </tr>\n",
       "    <tr>\n",
       "      <th>3</th>\n",
       "      <td>14</td>\n",
       "      <td>0</td>\n",
       "      <td>12159</td>\n",
       "      <td>1</td>\n",
       "      <td>1</td>\n",
       "      <td>10</td>\n",
       "      <td>1</td>\n",
       "      <td>5</td>\n",
       "      <td>0</td>\n",
       "      <td>0</td>\n",
       "      <td>...</td>\n",
       "      <td>3</td>\n",
       "      <td>17359373</td>\n",
       "      <td>0.0</td>\n",
       "      <td>49486120.0</td>\n",
       "      <td>0</td>\n",
       "      <td>66845493</td>\n",
       "      <td>1039450934</td>\n",
       "      <td>ANDRES  MAURICIO</td>\n",
       "      <td>50</td>\n",
       "      <td>12159</td>\n",
       "    </tr>\n",
       "    <tr>\n",
       "      <th>4</th>\n",
       "      <td>14</td>\n",
       "      <td>0</td>\n",
       "      <td>12159</td>\n",
       "      <td>1</td>\n",
       "      <td>1</td>\n",
       "      <td>10</td>\n",
       "      <td>1</td>\n",
       "      <td>5</td>\n",
       "      <td>0</td>\n",
       "      <td>0</td>\n",
       "      <td>...</td>\n",
       "      <td>3</td>\n",
       "      <td>17359373</td>\n",
       "      <td>0.0</td>\n",
       "      <td>49486120.0</td>\n",
       "      <td>0</td>\n",
       "      <td>66845493</td>\n",
       "      <td>43094163</td>\n",
       "      <td>ANA  MARIA</td>\n",
       "      <td>50</td>\n",
       "      <td>12159</td>\n",
       "    </tr>\n",
       "  </tbody>\n",
       "</table>\n",
       "<p>5 rows × 26 columns</p>\n",
       "</div>"
      ],
      "text/plain": [
       "   cc_tarifa ESTRATO  CONSECUTIVO PREDIAL  clase  corregimiento  barrio  \\\n",
       "0         33       2                 2972      1              1       1   \n",
       "1         14       5                41717      1              1      10   \n",
       "2         14       0                12157      1              1      10   \n",
       "3         14       0                12159      1              1      10   \n",
       "4         14       0                12159      1              1      10   \n",
       "\n",
       "   manzana  predio  edificio  mejora  ... DESTINACION    vlr_terr  \\\n",
       "0       19      21         0       0  ...           2  2053516974   \n",
       "1        1       2         0       0  ...          19     1522752   \n",
       "2        1       3         0       0  ...          19     3426192   \n",
       "3        1       5         0       0  ...           3    17359373   \n",
       "4        1       5         0       0  ...           3    17359373   \n",
       "\n",
       "   vlr_terr_comun   vlr_const  vlr_const_comun  vlr_tot_avaluo  \\\n",
       "0             0.0   6137903.0                0      2059654877   \n",
       "1             0.0         0.0                0         1522752   \n",
       "2             0.0         0.0                0         3426192   \n",
       "3             0.0  49486120.0                0        66845493   \n",
       "4             0.0  49486120.0                0        66845493   \n",
       "\n",
       "   nro_doc_id_catastral            nombre  proindiviso  cons_pred  \n",
       "0             805012921   FIDUCIARIA S.A.          100       2972  \n",
       "1             811008684  DE RIONEGRO S.A.          100      41717  \n",
       "2             811008684  DE RIONEGRO S.A.          100      12157  \n",
       "3            1039450934  ANDRES  MAURICIO           50      12159  \n",
       "4              43094163        ANA  MARIA           50      12159  \n",
       "\n",
       "[5 rows x 26 columns]"
      ]
     },
     "execution_count": 13,
     "metadata": {},
     "output_type": "execute_result"
    }
   ],
   "source": [
    "df_2018.head()"
   ]
  },
  {
   "cell_type": "code",
   "execution_count": 14,
   "id": "93f6a31b-5632-40f1-8ef5-e93cf3b15a29",
   "metadata": {},
   "outputs": [],
   "source": [
    "df_2018.drop_duplicates(subset='CONSECUTIVO PREDIAL').reset_index(drop=True,inplace=True)"
   ]
  },
  {
   "cell_type": "markdown",
   "id": "a70d345a-9261-46cb-b428-85f535dcd3bf",
   "metadata": {},
   "source": [
    "## 2019"
   ]
  },
  {
   "cell_type": "code",
   "execution_count": 15,
   "id": "c6159528-ea8d-4fc6-91a7-a793b88548b1",
   "metadata": {},
   "outputs": [],
   "source": [
    "df_2019 = df[df['AÑO']==2019].reset_index(drop=True).copy()"
   ]
  },
  {
   "cell_type": "code",
   "execution_count": 16,
   "id": "9af10330-5a33-4b56-877d-6e2b6332dc0d",
   "metadata": {},
   "outputs": [],
   "source": [
    "df_2019.drop(columns=['IDENTIFICACION CATASTRAL','AÑO','primer_apell','segundo_apell','per_ult_pag','ficha','direccion'],inplace=True)"
   ]
  },
  {
   "cell_type": "code",
   "execution_count": 17,
   "id": "36b6f2c0-1f8a-469a-ac7c-1532d2b82fe2",
   "metadata": {},
   "outputs": [
    {
     "data": {
      "text/html": [
       "<div>\n",
       "<style scoped>\n",
       "    .dataframe tbody tr th:only-of-type {\n",
       "        vertical-align: middle;\n",
       "    }\n",
       "\n",
       "    .dataframe tbody tr th {\n",
       "        vertical-align: top;\n",
       "    }\n",
       "\n",
       "    .dataframe thead th {\n",
       "        text-align: right;\n",
       "    }\n",
       "</style>\n",
       "<table border=\"1\" class=\"dataframe\">\n",
       "  <thead>\n",
       "    <tr style=\"text-align: right;\">\n",
       "      <th></th>\n",
       "      <th>cc_tarifa</th>\n",
       "      <th>ESTRATO</th>\n",
       "      <th>CONSECUTIVO PREDIAL</th>\n",
       "      <th>clase</th>\n",
       "      <th>corregimiento</th>\n",
       "      <th>barrio</th>\n",
       "      <th>manzana</th>\n",
       "      <th>predio</th>\n",
       "      <th>edificio</th>\n",
       "      <th>mejora</th>\n",
       "      <th>...</th>\n",
       "      <th>DESTINACION</th>\n",
       "      <th>vlr_terr</th>\n",
       "      <th>vlr_terr_comun</th>\n",
       "      <th>vlr_const</th>\n",
       "      <th>vlr_const_comun</th>\n",
       "      <th>vlr_tot_avaluo</th>\n",
       "      <th>nro_doc_id_catastral</th>\n",
       "      <th>nombre</th>\n",
       "      <th>proindiviso</th>\n",
       "      <th>cons_pred</th>\n",
       "    </tr>\n",
       "  </thead>\n",
       "  <tbody>\n",
       "    <tr>\n",
       "      <th>0</th>\n",
       "      <td>33</td>\n",
       "      <td>2</td>\n",
       "      <td>2972</td>\n",
       "      <td>1</td>\n",
       "      <td>1</td>\n",
       "      <td>1</td>\n",
       "      <td>19</td>\n",
       "      <td>21</td>\n",
       "      <td>0</td>\n",
       "      <td>0</td>\n",
       "      <td>...</td>\n",
       "      <td>2</td>\n",
       "      <td>2115122483</td>\n",
       "      <td>0.0</td>\n",
       "      <td>6322040.0</td>\n",
       "      <td>0</td>\n",
       "      <td>2121444523</td>\n",
       "      <td>805012921</td>\n",
       "      <td>FIDUCIARIA S.A.</td>\n",
       "      <td>100</td>\n",
       "      <td>2972</td>\n",
       "    </tr>\n",
       "    <tr>\n",
       "      <th>1</th>\n",
       "      <td>14</td>\n",
       "      <td>5</td>\n",
       "      <td>41717</td>\n",
       "      <td>1</td>\n",
       "      <td>1</td>\n",
       "      <td>10</td>\n",
       "      <td>1</td>\n",
       "      <td>2</td>\n",
       "      <td>0</td>\n",
       "      <td>0</td>\n",
       "      <td>...</td>\n",
       "      <td>19</td>\n",
       "      <td>1568435</td>\n",
       "      <td>0.0</td>\n",
       "      <td>0.0</td>\n",
       "      <td>0</td>\n",
       "      <td>1568435</td>\n",
       "      <td>811008684</td>\n",
       "      <td>DE RIONEGRO S.A.</td>\n",
       "      <td>100</td>\n",
       "      <td>41717</td>\n",
       "    </tr>\n",
       "    <tr>\n",
       "      <th>2</th>\n",
       "      <td>14</td>\n",
       "      <td>0</td>\n",
       "      <td>12157</td>\n",
       "      <td>1</td>\n",
       "      <td>1</td>\n",
       "      <td>10</td>\n",
       "      <td>1</td>\n",
       "      <td>3</td>\n",
       "      <td>0</td>\n",
       "      <td>0</td>\n",
       "      <td>...</td>\n",
       "      <td>19</td>\n",
       "      <td>3528978</td>\n",
       "      <td>0.0</td>\n",
       "      <td>0.0</td>\n",
       "      <td>0</td>\n",
       "      <td>3528978</td>\n",
       "      <td>811008684</td>\n",
       "      <td>DE RIONEGRO S.A.</td>\n",
       "      <td>100</td>\n",
       "      <td>12157</td>\n",
       "    </tr>\n",
       "    <tr>\n",
       "      <th>3</th>\n",
       "      <td>14</td>\n",
       "      <td>0</td>\n",
       "      <td>12159</td>\n",
       "      <td>1</td>\n",
       "      <td>1</td>\n",
       "      <td>10</td>\n",
       "      <td>1</td>\n",
       "      <td>5</td>\n",
       "      <td>0</td>\n",
       "      <td>0</td>\n",
       "      <td>...</td>\n",
       "      <td>3</td>\n",
       "      <td>17880154</td>\n",
       "      <td>0.0</td>\n",
       "      <td>50970704.0</td>\n",
       "      <td>0</td>\n",
       "      <td>68850858</td>\n",
       "      <td>1039450934</td>\n",
       "      <td>ANDRES  MAURICIO</td>\n",
       "      <td>50</td>\n",
       "      <td>12159</td>\n",
       "    </tr>\n",
       "    <tr>\n",
       "      <th>4</th>\n",
       "      <td>14</td>\n",
       "      <td>0</td>\n",
       "      <td>12159</td>\n",
       "      <td>1</td>\n",
       "      <td>1</td>\n",
       "      <td>10</td>\n",
       "      <td>1</td>\n",
       "      <td>5</td>\n",
       "      <td>0</td>\n",
       "      <td>0</td>\n",
       "      <td>...</td>\n",
       "      <td>3</td>\n",
       "      <td>17880154</td>\n",
       "      <td>0.0</td>\n",
       "      <td>50970704.0</td>\n",
       "      <td>0</td>\n",
       "      <td>68850858</td>\n",
       "      <td>43094163</td>\n",
       "      <td>ANA  MARIA</td>\n",
       "      <td>50</td>\n",
       "      <td>12159</td>\n",
       "    </tr>\n",
       "  </tbody>\n",
       "</table>\n",
       "<p>5 rows × 26 columns</p>\n",
       "</div>"
      ],
      "text/plain": [
       "   cc_tarifa ESTRATO  CONSECUTIVO PREDIAL  clase  corregimiento  barrio  \\\n",
       "0         33       2                 2972      1              1       1   \n",
       "1         14       5                41717      1              1      10   \n",
       "2         14       0                12157      1              1      10   \n",
       "3         14       0                12159      1              1      10   \n",
       "4         14       0                12159      1              1      10   \n",
       "\n",
       "   manzana  predio  edificio  mejora  ... DESTINACION    vlr_terr  \\\n",
       "0       19      21         0       0  ...           2  2115122483   \n",
       "1        1       2         0       0  ...          19     1568435   \n",
       "2        1       3         0       0  ...          19     3528978   \n",
       "3        1       5         0       0  ...           3    17880154   \n",
       "4        1       5         0       0  ...           3    17880154   \n",
       "\n",
       "   vlr_terr_comun   vlr_const  vlr_const_comun  vlr_tot_avaluo  \\\n",
       "0             0.0   6322040.0                0      2121444523   \n",
       "1             0.0         0.0                0         1568435   \n",
       "2             0.0         0.0                0         3528978   \n",
       "3             0.0  50970704.0                0        68850858   \n",
       "4             0.0  50970704.0                0        68850858   \n",
       "\n",
       "   nro_doc_id_catastral            nombre  proindiviso  cons_pred  \n",
       "0             805012921   FIDUCIARIA S.A.          100       2972  \n",
       "1             811008684  DE RIONEGRO S.A.          100      41717  \n",
       "2             811008684  DE RIONEGRO S.A.          100      12157  \n",
       "3            1039450934  ANDRES  MAURICIO           50      12159  \n",
       "4              43094163        ANA  MARIA           50      12159  \n",
       "\n",
       "[5 rows x 26 columns]"
      ]
     },
     "execution_count": 17,
     "metadata": {},
     "output_type": "execute_result"
    }
   ],
   "source": [
    "df_2019.head()"
   ]
  },
  {
   "cell_type": "code",
   "execution_count": 18,
   "id": "5eeac2a8-8188-413b-8247-f8d56a514c8a",
   "metadata": {},
   "outputs": [],
   "source": [
    "df_2019.drop_duplicates(subset='CONSECUTIVO PREDIAL').reset_index(drop=True,inplace=True)"
   ]
  },
  {
   "cell_type": "markdown",
   "id": "07b0b913-64eb-4370-9c8d-15c4ae64ba25",
   "metadata": {},
   "source": [
    "## 2020"
   ]
  },
  {
   "cell_type": "code",
   "execution_count": 19,
   "id": "96a9d77c-2c88-4a63-85b9-a911f154b158",
   "metadata": {},
   "outputs": [],
   "source": [
    "df_2020 = df[df['AÑO']==2020].reset_index(drop=True).copy()"
   ]
  },
  {
   "cell_type": "code",
   "execution_count": 20,
   "id": "50ae18f3-db42-410b-bfb3-9a0cd6061d49",
   "metadata": {},
   "outputs": [],
   "source": [
    "df_2020.drop(columns=['IDENTIFICACION CATASTRAL','AÑO','primer_apell','segundo_apell','per_ult_pag','ficha','direccion'],inplace=True)"
   ]
  },
  {
   "cell_type": "code",
   "execution_count": 21,
   "id": "4680a3b5-f21e-4d5f-a384-c9a7e1109001",
   "metadata": {},
   "outputs": [
    {
     "data": {
      "text/html": [
       "<div>\n",
       "<style scoped>\n",
       "    .dataframe tbody tr th:only-of-type {\n",
       "        vertical-align: middle;\n",
       "    }\n",
       "\n",
       "    .dataframe tbody tr th {\n",
       "        vertical-align: top;\n",
       "    }\n",
       "\n",
       "    .dataframe thead th {\n",
       "        text-align: right;\n",
       "    }\n",
       "</style>\n",
       "<table border=\"1\" class=\"dataframe\">\n",
       "  <thead>\n",
       "    <tr style=\"text-align: right;\">\n",
       "      <th></th>\n",
       "      <th>cc_tarifa</th>\n",
       "      <th>ESTRATO</th>\n",
       "      <th>CONSECUTIVO PREDIAL</th>\n",
       "      <th>clase</th>\n",
       "      <th>corregimiento</th>\n",
       "      <th>barrio</th>\n",
       "      <th>manzana</th>\n",
       "      <th>predio</th>\n",
       "      <th>edificio</th>\n",
       "      <th>mejora</th>\n",
       "      <th>...</th>\n",
       "      <th>DESTINACION</th>\n",
       "      <th>vlr_terr</th>\n",
       "      <th>vlr_terr_comun</th>\n",
       "      <th>vlr_const</th>\n",
       "      <th>vlr_const_comun</th>\n",
       "      <th>vlr_tot_avaluo</th>\n",
       "      <th>nro_doc_id_catastral</th>\n",
       "      <th>nombre</th>\n",
       "      <th>proindiviso</th>\n",
       "      <th>cons_pred</th>\n",
       "    </tr>\n",
       "  </thead>\n",
       "  <tbody>\n",
       "    <tr>\n",
       "      <th>0</th>\n",
       "      <td>33</td>\n",
       "      <td>2</td>\n",
       "      <td>2972</td>\n",
       "      <td>1</td>\n",
       "      <td>1</td>\n",
       "      <td>1</td>\n",
       "      <td>19</td>\n",
       "      <td>21</td>\n",
       "      <td>0</td>\n",
       "      <td>0</td>\n",
       "      <td>...</td>\n",
       "      <td>2</td>\n",
       "      <td>2178576158</td>\n",
       "      <td>0.0</td>\n",
       "      <td>6511701.0</td>\n",
       "      <td>0</td>\n",
       "      <td>2185087859</td>\n",
       "      <td>805012921</td>\n",
       "      <td>FIDUCIARIA S.A.</td>\n",
       "      <td>100</td>\n",
       "      <td>2972</td>\n",
       "    </tr>\n",
       "    <tr>\n",
       "      <th>1</th>\n",
       "      <td>14</td>\n",
       "      <td>5</td>\n",
       "      <td>41717</td>\n",
       "      <td>1</td>\n",
       "      <td>1</td>\n",
       "      <td>10</td>\n",
       "      <td>1</td>\n",
       "      <td>2</td>\n",
       "      <td>0</td>\n",
       "      <td>0</td>\n",
       "      <td>...</td>\n",
       "      <td>19</td>\n",
       "      <td>2625167</td>\n",
       "      <td>0.0</td>\n",
       "      <td>0.0</td>\n",
       "      <td>0</td>\n",
       "      <td>2625167</td>\n",
       "      <td>811008684</td>\n",
       "      <td>DE RIONEGRO S.A.</td>\n",
       "      <td>100</td>\n",
       "      <td>41717</td>\n",
       "    </tr>\n",
       "    <tr>\n",
       "      <th>2</th>\n",
       "      <td>14</td>\n",
       "      <td>0</td>\n",
       "      <td>12157</td>\n",
       "      <td>1</td>\n",
       "      <td>1</td>\n",
       "      <td>10</td>\n",
       "      <td>1</td>\n",
       "      <td>3</td>\n",
       "      <td>0</td>\n",
       "      <td>0</td>\n",
       "      <td>...</td>\n",
       "      <td>19</td>\n",
       "      <td>3634847</td>\n",
       "      <td>0.0</td>\n",
       "      <td>0.0</td>\n",
       "      <td>0</td>\n",
       "      <td>3634847</td>\n",
       "      <td>811008684</td>\n",
       "      <td>DE RIONEGRO S.A.</td>\n",
       "      <td>100</td>\n",
       "      <td>12157</td>\n",
       "    </tr>\n",
       "    <tr>\n",
       "      <th>3</th>\n",
       "      <td>14</td>\n",
       "      <td>0</td>\n",
       "      <td>12159</td>\n",
       "      <td>1</td>\n",
       "      <td>1</td>\n",
       "      <td>10</td>\n",
       "      <td>1</td>\n",
       "      <td>5</td>\n",
       "      <td>0</td>\n",
       "      <td>0</td>\n",
       "      <td>...</td>\n",
       "      <td>3</td>\n",
       "      <td>18416559</td>\n",
       "      <td>0.0</td>\n",
       "      <td>52499825.0</td>\n",
       "      <td>0</td>\n",
       "      <td>70916384</td>\n",
       "      <td>1039450934</td>\n",
       "      <td>ANDRES  MAURICIO</td>\n",
       "      <td>50</td>\n",
       "      <td>12159</td>\n",
       "    </tr>\n",
       "    <tr>\n",
       "      <th>4</th>\n",
       "      <td>14</td>\n",
       "      <td>0</td>\n",
       "      <td>12159</td>\n",
       "      <td>1</td>\n",
       "      <td>1</td>\n",
       "      <td>10</td>\n",
       "      <td>1</td>\n",
       "      <td>5</td>\n",
       "      <td>0</td>\n",
       "      <td>0</td>\n",
       "      <td>...</td>\n",
       "      <td>3</td>\n",
       "      <td>18416559</td>\n",
       "      <td>0.0</td>\n",
       "      <td>52499825.0</td>\n",
       "      <td>0</td>\n",
       "      <td>70916384</td>\n",
       "      <td>43094163</td>\n",
       "      <td>ANA  MARIA</td>\n",
       "      <td>50</td>\n",
       "      <td>12159</td>\n",
       "    </tr>\n",
       "  </tbody>\n",
       "</table>\n",
       "<p>5 rows × 26 columns</p>\n",
       "</div>"
      ],
      "text/plain": [
       "   cc_tarifa ESTRATO  CONSECUTIVO PREDIAL  clase  corregimiento  barrio  \\\n",
       "0         33       2                 2972      1              1       1   \n",
       "1         14       5                41717      1              1      10   \n",
       "2         14       0                12157      1              1      10   \n",
       "3         14       0                12159      1              1      10   \n",
       "4         14       0                12159      1              1      10   \n",
       "\n",
       "   manzana  predio  edificio  mejora  ... DESTINACION    vlr_terr  \\\n",
       "0       19      21         0       0  ...           2  2178576158   \n",
       "1        1       2         0       0  ...          19     2625167   \n",
       "2        1       3         0       0  ...          19     3634847   \n",
       "3        1       5         0       0  ...           3    18416559   \n",
       "4        1       5         0       0  ...           3    18416559   \n",
       "\n",
       "   vlr_terr_comun   vlr_const  vlr_const_comun  vlr_tot_avaluo  \\\n",
       "0             0.0   6511701.0                0      2185087859   \n",
       "1             0.0         0.0                0         2625167   \n",
       "2             0.0         0.0                0         3634847   \n",
       "3             0.0  52499825.0                0        70916384   \n",
       "4             0.0  52499825.0                0        70916384   \n",
       "\n",
       "   nro_doc_id_catastral            nombre  proindiviso  cons_pred  \n",
       "0             805012921   FIDUCIARIA S.A.          100       2972  \n",
       "1             811008684  DE RIONEGRO S.A.          100      41717  \n",
       "2             811008684  DE RIONEGRO S.A.          100      12157  \n",
       "3            1039450934  ANDRES  MAURICIO           50      12159  \n",
       "4              43094163        ANA  MARIA           50      12159  \n",
       "\n",
       "[5 rows x 26 columns]"
      ]
     },
     "execution_count": 21,
     "metadata": {},
     "output_type": "execute_result"
    }
   ],
   "source": [
    "df_2020.head()"
   ]
  },
  {
   "cell_type": "code",
   "execution_count": 22,
   "id": "d805c4c1-b696-40e1-b2a8-706042dab15e",
   "metadata": {},
   "outputs": [],
   "source": [
    "df_2020.drop_duplicates(subset='CONSECUTIVO PREDIAL').reset_index(drop=True,inplace=True)"
   ]
  },
  {
   "cell_type": "markdown",
   "id": "92cc4628-00a1-47a2-b6bb-704082a1abd2",
   "metadata": {},
   "source": [
    "## CC tarifa"
   ]
  },
  {
   "cell_type": "code",
   "execution_count": null,
   "id": "e46cf617-99f1-4bc4-b030-d1cdee6c4ae6",
   "metadata": {},
   "outputs": [],
   "source": [
    "tarifa_2016 = pd.DataFrame(df_2016['cc_tarifa'].value_counts()).rename(columns={'cc_tarifa':'cc_tarifa2016'})"
   ]
  },
  {
   "cell_type": "code",
   "execution_count": null,
   "id": "15f15bea-ba2d-4b84-8eba-74a04a1ad4ee",
   "metadata": {},
   "outputs": [],
   "source": [
    "tarifa_2017 = pd.DataFrame(df_2017['cc_tarifa'].value_counts()).rename(columns={'cc_tarifa':'cc_tarifa2017'})"
   ]
  },
  {
   "cell_type": "code",
   "execution_count": null,
   "id": "0143794f-e9ac-4945-9d73-ac65444ae5c6",
   "metadata": {},
   "outputs": [],
   "source": [
    "tarifa_2018 = pd.DataFrame(df_2018['cc_tarifa'].value_counts()).rename(columns={'cc_tarifa':'cc_tarifa2018'})"
   ]
  },
  {
   "cell_type": "code",
   "execution_count": null,
   "id": "87270593-fc2b-46ef-9544-f11d7214b251",
   "metadata": {},
   "outputs": [],
   "source": [
    "tarifa_2019 = pd.DataFrame(df_2019['cc_tarifa'].value_counts()).rename(columns={'cc_tarifa':'cc_tarifa2019'})"
   ]
  },
  {
   "cell_type": "code",
   "execution_count": null,
   "id": "6743e98e-2af8-4d17-8493-61096a41e928",
   "metadata": {},
   "outputs": [],
   "source": [
    "tarifa_2020 = pd.DataFrame(df_2020['cc_tarifa'].value_counts()).rename(columns={'cc_tarifa':'cc_tarifa2020'})"
   ]
  },
  {
   "cell_type": "code",
   "execution_count": null,
   "id": "e8bb491f-8e2c-49b0-b5f6-5f120aaae42d",
   "metadata": {},
   "outputs": [],
   "source": [
    "pd.concat([tarifa_2016,tarifa_2017,tarifa_2018,tarifa_2019,tarifa_2020],axis=1)"
   ]
  },
  {
   "cell_type": "markdown",
   "id": "190d18ce-1a54-4e61-ac2a-840b751440a5",
   "metadata": {},
   "source": [
    "## Estrato"
   ]
  },
  {
   "cell_type": "code",
   "execution_count": null,
   "id": "3210cb8f-7719-4af0-8249-46e91c8f15e2",
   "metadata": {},
   "outputs": [],
   "source": [
    "estrato_2016 = pd.DataFrame(df_2016['ESTRATO'].value_counts()).rename(columns={'ESTRATO':'ESTRATO2016'})"
   ]
  },
  {
   "cell_type": "code",
   "execution_count": null,
   "id": "704cf0cc-7dfe-4ff7-84d6-5207f8505dce",
   "metadata": {},
   "outputs": [],
   "source": [
    "estrato_2017 = pd.DataFrame(df_2017['ESTRATO'].value_counts()).rename(columns={'ESTRATO':'ESTRATO2017'})"
   ]
  },
  {
   "cell_type": "code",
   "execution_count": null,
   "id": "24b4672c-b8a3-4f0b-b534-86f53df65a06",
   "metadata": {},
   "outputs": [],
   "source": [
    "estrato_2018 = pd.DataFrame(df_2018['ESTRATO'].value_counts()).rename(columns={'ESTRATO':'ESTRATO2018'})"
   ]
  },
  {
   "cell_type": "code",
   "execution_count": null,
   "id": "5752a012-1348-40d6-b629-561fdf83109d",
   "metadata": {},
   "outputs": [],
   "source": [
    "estrato_2019 = pd.DataFrame(df_2019['ESTRATO'].value_counts()).rename(columns={'ESTRATO':'ESTRATO2019'})"
   ]
  },
  {
   "cell_type": "code",
   "execution_count": null,
   "id": "f7e083a1-5f96-4f92-a7f6-4a8b43af2c22",
   "metadata": {},
   "outputs": [],
   "source": [
    "estrato_2020 = pd.DataFrame(df_2020['ESTRATO'].value_counts()).rename(columns={'ESTRATO':'ESTRATO2020'})"
   ]
  },
  {
   "cell_type": "code",
   "execution_count": null,
   "id": "5401c3d7-51cf-47e5-a8b0-d6f71c126673",
   "metadata": {},
   "outputs": [],
   "source": [
    "pd.concat([estrato_2016,estrato_2017,estrato_2018,estrato_2019,estrato_2020],axis=1)"
   ]
  },
  {
   "cell_type": "markdown",
   "id": "e68e96f9-5515-4420-a25a-97e29e2948fb",
   "metadata": {},
   "source": [
    "## Estrato Vs Vlr const"
   ]
  },
  {
   "cell_type": "code",
   "execution_count": 38,
   "id": "032c2619-adb2-4099-b21d-5ad0088cc664",
   "metadata": {},
   "outputs": [
    {
     "data": {
      "image/png": "[encoded data removed]",
      "text/plain": [
       "<Figure size 432x288 with 1 Axes>"
      ]
     },
     "metadata": {
      "needs_background": "light"
     },
     "output_type": "display_data"
    }
   ],
   "source": [
    "sns.boxplot(data=df_2016,x='vlr_const',y='ESTRATO',showfliers=False).set_title('Vlr_const boxplot 2016 (without outiers)');"
   ]
  },
  {
   "cell_type": "code",
   "execution_count": 39,
   "id": "bd32e8f3-04b8-4c6e-98ed-f0ec5c4115d1",
   "metadata": {},
   "outputs": [
    {
     "data": {
      "image/png": "[encoded data removed]",
      "text/plain": [
       "<Figure size 432x288 with 1 Axes>"
      ]
     },
     "metadata": {
      "needs_background": "light"
     },
     "output_type": "display_data"
    }
   ],
   "source": [
    "sns.boxplot(data=df_2017,x='vlr_const',y='ESTRATO',showfliers=False).set_title('Vlr_const boxplot 2017 (without outiers)');"
   ]
  },
  {
   "cell_type": "code",
   "execution_count": 40,
   "id": "8be61f36-dbce-4b32-8dd1-97dfb5bea768",
   "metadata": {},
   "outputs": [
    {
     "data": {
      "image/png": "[encoded data removed]",
      "text/plain": [
       "<Figure size 432x288 with 1 Axes>"
      ]
     },
     "metadata": {
      "needs_background": "light"
     },
     "output_type": "display_data"
    }
   ],
   "source": [
    "sns.boxplot(data=df_2018,x='vlr_const',y='ESTRATO',showfliers=False).set_title('Vlr_const boxplot 2018 (without outiers)');"
   ]
  },
  {
   "cell_type": "code",
   "execution_count": 41,
   "id": "ed0f78c7-c6a0-475d-bc8f-95603d05948a",
   "metadata": {},
   "outputs": [
    {
     "data": {
      "image/png": "[encoded data removed]",
      "text/plain": [
       "<Figure size 432x288 with 1 Axes>"
      ]
     },
     "metadata": {
      "needs_background": "light"
     },
     "output_type": "display_data"
    }
   ],
   "source": [
    "sns.boxplot(data=df_2019,x='vlr_const',y='ESTRATO',showfliers=False).set_title('Vlr_const boxplot 2019 (without outiers)');"
   ]
  },
  {
   "cell_type": "code",
   "execution_count": 42,
   "id": "18be523f-bd1c-4792-80a3-7042e155ea09",
   "metadata": {},
   "outputs": [
    {
     "data": {
      "image/png": "[encoded data removed]",
      "text/plain": [
       "<Figure size 432x288 with 1 Axes>"
      ]
     },
     "metadata": {
      "needs_background": "light"
     },
     "output_type": "display_data"
    }
   ],
   "source": [
    "sns.boxplot(data=df_2020,x='vlr_const',y='ESTRATO',showfliers=False).set_title('Vlr_const boxplot 2020 (without outiers)');"
   ]
  },
  {
   "cell_type": "code",
   "execution_count": null,
   "id": "8f7572ec-350f-41cd-9d71-34e56b02715e",
   "metadata": {},
   "outputs": [],
   "source": []
  },
  {
   "cell_type": "code",
   "execution_count": null,
   "id": "e1abc5be-917d-4e87-965c-f1ef0cc888a4",
   "metadata": {},
   "outputs": [],
   "source": []
  },
  {
   "cell_type": "markdown",
   "id": "3496ea41-2969-40f0-a8c4-2055167baf45",
   "metadata": {},
   "source": [
    "## Total predios"
   ]
  },
  {
   "cell_type": "code",
   "execution_count": null,
   "id": "252a37eb-ba4a-4c7e-ab91-2081dd507f11",
   "metadata": {},
   "outputs": [],
   "source": [
    "df_2016['CONSECUTIVO PREDIAL'].nunique()"
   ]
  },
  {
   "cell_type": "code",
   "execution_count": null,
   "id": "eb259346-506a-42ea-89ab-432a213a168f",
   "metadata": {},
   "outputs": [],
   "source": [
    "predios = pd.DataFrame([[2016,df_2016['CONSECUTIVO PREDIAL'].nunique()],[2017,df_2017['CONSECUTIVO PREDIAL'].nunique()],[2018,df_2018['CONSECUTIVO PREDIAL'].nunique()],[2019,df_2019['CONSECUTIVO PREDIAL'].nunique()],[2020,df_2020['CONSECUTIVO PREDIAL'].nunique()]],columns=['Año','Total predios'])"
   ]
  },
  {
   "cell_type": "code",
   "execution_count": null,
   "id": "205bedb9-4b9e-46bd-947d-21fb0b001476",
   "metadata": {},
   "outputs": [],
   "source": [
    "sns.lineplot(data=predios,x='Año',y='Total predios',an);"
   ]
  },
  {
   "cell_type": "code",
   "execution_count": null,
   "id": "2cb83dd0-4c59-4092-8f18-30c6cea366a8",
   "metadata": {},
   "outputs": [],
   "source": [
    "predios"
   ]
  },
  {
   "cell_type": "markdown",
   "id": "55e99ed1-430c-4708-8fff-32c1203da37e",
   "metadata": {},
   "source": [
    "## Total valor terreno"
   ]
  },
  {
   "cell_type": "code",
   "execution_count": null,
   "id": "ea5c2e55-9b64-4952-afc0-2c79e031fe21",
   "metadata": {},
   "outputs": [],
   "source": [
    "sns.boxplot(data=df_2016,x='vlr_const').set_title('Vlr_const boxplot 2016 (with outiers)');"
   ]
  },
  {
   "cell_type": "code",
   "execution_count": null,
   "id": "a9d25e45-c5cd-4e7e-8438-a1d07dbd54cf",
   "metadata": {},
   "outputs": [],
   "source": [
    "sns.boxplot(data=df_2016,x='vlr_const',showfliers=False).set_title('Vlr_const boxplot 2016 (without outiers)');"
   ]
  },
  {
   "cell_type": "code",
   "execution_count": null,
   "id": "a5cdd494-b874-4bbb-8926-c681bd6dbfcb",
   "metadata": {},
   "outputs": [],
   "source": [
    "df_2016['vlr_const'].describe()"
   ]
  },
  {
   "cell_type": "markdown",
   "id": "2f79a156-b41b-48e6-8e7a-7f805d17d8fb",
   "metadata": {},
   "source": [
    "## Barrio"
   ]
  },
  {
   "cell_type": "code",
   "execution_count": 45,
   "id": "592cc2ca-840d-4e7d-a346-1eba56fa81ea",
   "metadata": {},
   "outputs": [
    {
     "data": {
      "text/plain": [
       "Index(['AÑO', 'IDENTIFICACION CATASTRAL', 'cc_tarifa', 'ESTRATO',\n",
       "       'CONSECUTIVO PREDIAL', 'clase', 'corregimiento', 'barrio', 'manzana',\n",
       "       'predio', 'edificio', 'mejora', 'ficha', 'circulo', 'matricula',\n",
       "       'direccion', 'area_terr', 'area_terr_comun', 'area_const',\n",
       "       'area_const_comun', 'DESTINACION', 'vlr_terr', 'vlr_terr_comun',\n",
       "       'vlr_const', 'vlr_const_comun', 'vlr_tot_avaluo',\n",
       "       'nro_doc_id_catastral', 'nombre', 'primer_apell', 'segundo_apell',\n",
       "       'proindiviso', 'cons_pred', 'per_ult_pag'],\n",
       "      dtype='object')"
      ]
     },
     "execution_count": 45,
     "metadata": {},
     "output_type": "execute_result"
    }
   ],
   "source": [
    "df.columns"
   ]
  },
  {
   "cell_type": "code",
   "execution_count": 70,
   "id": "e9dc47f4-78ad-4516-baf5-38ec4fdd00ba",
   "metadata": {},
   "outputs": [
    {
     "data": {
      "image/png": "[encoded data removed]",
      "text/plain": [
       "<Figure size 432x288 with 2 Axes>"
      ]
     },
     "metadata": {
      "needs_background": "light"
     },
     "output_type": "display_data"
    }
   ],
   "source": [
    "sns.heatmap(pd.crosstab(index=df_2016['barrio'],columns=df_2016['DESTINACION']),cmap='BuPu').set_title('2016 barrio vs destinacion');"
   ]
  },
  {
   "cell_type": "code",
   "execution_count": 71,
   "id": "8b198591-ec10-4fdc-864b-268c98689c5e",
   "metadata": {},
   "outputs": [
    {
     "data": {
      "image/png": "[encoded data removed]",
      "text/plain": [
       "<Figure size 432x288 with 2 Axes>"
      ]
     },
     "metadata": {
      "needs_background": "light"
     },
     "output_type": "display_data"
    }
   ],
   "source": [
    "sns.heatmap(pd.crosstab(index=df_2017['barrio'],columns=df_2017['DESTINACION']),cmap='BuPu').set_title('2017 barrio vs destinacion');"
   ]
  },
  {
   "cell_type": "code",
   "execution_count": 72,
   "id": "698ae3d3-87ec-4dd9-96f9-c0b54d26b31a",
   "metadata": {},
   "outputs": [
    {
     "data": {
      "image/png": "[encoded data removed]",
      "text/plain": [
       "<Figure size 432x288 with 2 Axes>"
      ]
     },
     "metadata": {
      "needs_background": "light"
     },
     "output_type": "display_data"
    }
   ],
   "source": [
    "sns.heatmap(pd.crosstab(index=df_2018['barrio'],columns=df_2018['DESTINACION']),cmap='BuPu').set_title('2018 barrio vs destinacion');"
   ]
  },
  {
   "cell_type": "code",
   "execution_count": 73,
   "id": "3078fcdf-6f68-4ed0-bb20-a1ca2ca5a293",
   "metadata": {},
   "outputs": [
    {
     "data": {
      "image/png": "[encoded data removed]",
      "text/plain": [
       "<Figure size 432x288 with 2 Axes>"
      ]
     },
     "metadata": {
      "needs_background": "light"
     },
     "output_type": "display_data"
    }
   ],
   "source": [
    "sns.heatmap(pd.crosstab(index=df_2019['barrio'],columns=df_2019['DESTINACION']),cmap='BuPu').set_title('2019 barrio vs destinacion');"
   ]
  },
  {
   "cell_type": "code",
   "execution_count": 74,
   "id": "108e5287-3989-4425-b8d5-1838bd86f986",
   "metadata": {},
   "outputs": [
    {
     "data": {
      "image/png": "[encoded data removed]",
      "text/plain": [
       "<Figure size 432x288 with 2 Axes>"
      ]
     },
     "metadata": {
      "needs_background": "light"
     },
     "output_type": "display_data"
    }
   ],
   "source": [
    "sns.heatmap(pd.crosstab(index=df_2020['barrio'],columns=df_2020['DESTINACION']),cmap='BuPu').set_title('2020 barrio vs destinacion');"
   ]
  },
  {
   "cell_type": "code",
   "execution_count": 67,
   "id": "1406fca0-b8e3-4172-a305-f4d3e49cfe2b",
   "metadata": {},
   "outputs": [
    {
     "data": {
      "text/plain": [
       "array([  0,   1,   3,   5,  10,  11,  12,  13,  14,  16,  21,  22,  23,\n",
       "        30,  31,  32,  91,  92,  93, 301, 303, 304, 305, 307, 311, 312,\n",
       "       313, 314, 315, 316, 317, 318, 319, 320, 321])"
      ]
     },
     "execution_count": 67,
     "metadata": {},
     "output_type": "execute_result"
    }
   ],
   "source": [
    "df_2016['barrio'].sort_values().unique()"
   ]
  }
 ],
 "metadata": {
  "kernelspec": {
   "display_name": "Python 3",
   "language": "python",
   "name": "python3"
  },
  "language_info": {
   "codemirror_mode": {
    "name": "ipython",
    "version": 3
   },
   "file_extension": ".py",
   "mimetype": "text/x-python",
   "name": "python",
   "nbconvert_exporter": "python",
   "pygments_lexer": "ipython3",
   "version": "3.7.5"
  }
 },
 "nbformat": 4,
 "nbformat_minor": 5
}
